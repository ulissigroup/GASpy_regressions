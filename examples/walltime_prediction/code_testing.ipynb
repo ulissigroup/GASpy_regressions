{
 "cells": [
  {
   "cell_type": "code",
   "execution_count": 1,
   "metadata": {},
   "outputs": [],
   "source": [
    "import os\n",
    "from shutil import rmtree\n",
    "cache_dir = \"/global/cscratch1/sd/zulissi/fireworks_launch_backup\"\n",
    "cached_files = os.listdir(cache_dir)\n",
    "src_dir = cache_dir + \"/\" + cached_files[100]"
   ]
  },
  {
   "cell_type": "code",
   "execution_count": 2,
   "metadata": {},
   "outputs": [],
   "source": [
    "from parsefile_helpers import *"
   ]
  },
  {
   "cell_type": "code",
   "execution_count": 4,
   "metadata": {},
   "outputs": [
    {
     "name": "stdout",
     "output_type": "stream",
     "text": [
      "successfully loaded your custom FW_config.yaml!\n"
     ]
    }
   ],
   "source": [
    "from gaspy.fireworks_helper_scripts import get_launchpad\n",
    "lpad = get_launchpad()"
   ]
  },
  {
   "cell_type": "code",
   "execution_count": 9,
   "metadata": {},
   "outputs": [
    {
     "data": {
      "text/plain": [
       "{'state': 'FIZZLED', 'created_on': '2017-05-05T01:22:23.195824'}"
      ]
     },
     "execution_count": 9,
     "metadata": {},
     "output_type": "execute_result"
    }
   ],
   "source": [
    "list(lpad.launches.find({\"launch_id\" : 11607}))[0][\"state_history\"][-1]"
   ]
  },
  {
   "cell_type": "code",
   "execution_count": 19,
   "metadata": {},
   "outputs": [
    {
     "data": {
      "text/plain": [
       "'/tmp/521cafcd-f47b-4251-84b7-d135f9dc9a58'"
      ]
     },
     "execution_count": 19,
     "metadata": {},
     "output_type": "execute_result"
    }
   ],
   "source": [
    "dest = unzip(src_dir)\n",
    "dest"
   ]
  },
  {
   "cell_type": "code",
   "execution_count": 3,
   "metadata": {},
   "outputs": [
    {
     "ename": "NameError",
     "evalue": "name 'dest' is not defined",
     "output_type": "error",
     "traceback": [
      "\u001b[0;31m---------------------------------------------------------------------------\u001b[0m",
      "\u001b[0;31mNameError\u001b[0m                                 Traceback (most recent call last)",
      "\u001b[0;32m<ipython-input-3-c45ba7bebc02>\u001b[0m in \u001b[0;36m<module>\u001b[0;34m\u001b[0m\n\u001b[0;32m----> 1\u001b[0;31m \u001b[0mget_avg_steptime\u001b[0m\u001b[0;34m(\u001b[0m\u001b[0mdest\u001b[0m\u001b[0;34m)\u001b[0m\u001b[0;34m\u001b[0m\u001b[0;34m\u001b[0m\u001b[0m\n\u001b[0m",
      "\u001b[0;31mNameError\u001b[0m: name 'dest' is not defined"
     ]
    }
   ],
   "source": [
    "get_avg_steptime(dest)"
   ]
  },
  {
   "cell_type": "code",
   "execution_count": 21,
   "metadata": {},
   "outputs": [
    {
     "data": {
      "text/plain": [
       "28"
      ]
     },
     "execution_count": 21,
     "metadata": {},
     "output_type": "execute_result"
    }
   ],
   "source": [
    "get_n_cores(dest)"
   ]
  },
  {
   "cell_type": "code",
   "execution_count": 22,
   "metadata": {},
   "outputs": [],
   "source": [
    "rmtree(dest)"
   ]
  },
  {
   "cell_type": "code",
   "execution_count": 10,
   "metadata": {},
   "outputs": [],
   "source": [
    "from gaspy.atoms_operators import fingerprint_adslab\n",
    "from gaspy.mongo import make_spglib_cell_from_atoms"
   ]
  },
  {
   "cell_type": "code",
   "execution_count": 15,
   "metadata": {},
   "outputs": [
    {
     "name": "stdout",
     "output_type": "stream",
     "text": [
      "Help on function fingerprint_adslab in module gaspy.atoms_operators:\n",
      "\n",
      "fingerprint_adslab(atoms)\n",
      "    This function will fingerprint a slab+adsorbate atoms object for you.\n",
      "    Currently, it only works with one adsorbate.\n",
      "    \n",
      "    Arg:\n",
      "        atoms   `ase.Atoms` object to fingerprint. The slab atoms must be\n",
      "                tagged with 0 and adsorbate atoms must be tagged with\n",
      "                non-zero integers.  This function also assumes that the\n",
      "                first atom in each adsorbate is the binding atom (e.g.,\n",
      "                of all atoms with tag==1, the first atom is the binding;\n",
      "                the same goes for tag==2 and tag==3 etc.).\n",
      "    Returns:\n",
      "        fingerprint A dictionary whose keys are:\n",
      "                        coordination            A string indicating the\n",
      "                                                first shell of\n",
      "                                                coordinated atoms\n",
      "                        neighborcoord           A list of strings\n",
      "                                                indicating the coordination\n",
      "                                                of each of the atoms in\n",
      "                                                the first shell of\n",
      "                                                coordinated atoms\n",
      "                        nextnearestcoordination A string identifying the\n",
      "                                                coordination of the\n",
      "                                                adsorbate when using a\n",
      "                                                loose tolerance for\n",
      "                                                identifying \"neighbors\"\n",
      "\n"
     ]
    }
   ],
   "source": [
    "help(fingerprint_adslab)"
   ]
  },
  {
   "cell_type": "code",
   "execution_count": null,
   "metadata": {},
   "outputs": [],
   "source": [
    "atoms_object = complete_dict[fw_id][\"atoms\"]\n",
    "\n",
    "            volume = atoms_object.get_volume()\n",
    "            nelems = differentElements(atoms_object, ads)\n",
    "            crystal = makeCell(atoms_object)\n",
    "            surface_area = np.linalg.norm(np.cross(crystal[0][0], crystal[0][1]), ord=1)\n",
    "            primitive = spglib.find_primitive(crystal, symprec = 1e-10)\n",
    "            if primitive is None:\n",
    "                continue\n",
    "            primitive_volume = np.abs(np.linalg.det(primitive[0]))\n",
    "            primitive_natoms = len(primitive[2])\n",
    "            primitive_nelectrons = getnelectrons(primitive[2], pp_dir)\n",
    "            nelectrons = getnelectrons(crystal[2], pp_dir)\n",
    "\n",
    "            \n",
    "            cell_numbers = np.array([volume, volume/primitive_volume, surface_area])\n",
    "            numbers = np.array([complete_dict[fw_id][\"natoms\"], nelectrons, \n",
    "                                primitive_natoms, primitive_nelectrons, kpts, max_planewave, nelems])\n",
    "            x = np.concatenate((cell_numbers, numbers, init_site))"
   ]
  },
  {
   "cell_type": "code",
   "execution_count": 27,
   "metadata": {},
   "outputs": [],
   "source": [
    "from ase.dft import kpoints"
   ]
  },
  {
   "cell_type": "code",
   "execution_count": 31,
   "metadata": {},
   "outputs": [
    {
     "data": {
      "text/plain": [
       "array([[-0.375, -0.375,  0.   ],\n",
       "       [-0.375, -0.125,  0.   ],\n",
       "       [-0.375,  0.125,  0.   ],\n",
       "       [-0.375,  0.375,  0.   ],\n",
       "       [-0.125, -0.375,  0.   ],\n",
       "       [-0.125, -0.125,  0.   ],\n",
       "       [-0.125,  0.125,  0.   ],\n",
       "       [-0.125,  0.375,  0.   ],\n",
       "       [ 0.125, -0.375,  0.   ],\n",
       "       [ 0.125, -0.125,  0.   ],\n",
       "       [ 0.125,  0.125,  0.   ],\n",
       "       [ 0.125,  0.375,  0.   ],\n",
       "       [ 0.375, -0.375,  0.   ],\n",
       "       [ 0.375, -0.125,  0.   ],\n",
       "       [ 0.375,  0.125,  0.   ],\n",
       "       [ 0.375,  0.375,  0.   ]])"
      ]
     },
     "execution_count": 31,
     "metadata": {},
     "output_type": "execute_result"
    }
   ],
   "source": [
    "kpoints.monkhorst_pack([4, 4, 1])"
   ]
  },
  {
   "cell_type": "code",
   "execution_count": null,
   "metadata": {},
   "outputs": [],
   "source": []
  }
 ],
 "metadata": {
  "kernelspec": {
   "display_name": "richie",
   "language": "python",
   "name": "richie"
  },
  "language_info": {
   "codemirror_mode": {
    "name": "ipython",
    "version": 3
   },
   "file_extension": ".py",
   "mimetype": "text/x-python",
   "name": "python",
   "nbconvert_exporter": "python",
   "pygments_lexer": "ipython3",
   "version": "3.6.7"
  }
 },
 "nbformat": 4,
 "nbformat_minor": 4
}
