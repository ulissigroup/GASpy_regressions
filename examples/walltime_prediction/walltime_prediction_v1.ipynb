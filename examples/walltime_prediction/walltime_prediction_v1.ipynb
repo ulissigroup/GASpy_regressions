{
 "cells": [
  {
   "cell_type": "code",
   "execution_count": 1,
   "metadata": {},
   "outputs": [
    {
     "name": "stdout",
     "output_type": "stream",
     "text": [
      "successfully loaded your custom FW_config.yaml!\n"
     ]
    }
   ],
   "source": [
    "from gaspy.fireworks_helper_scripts import get_launchpad, get_atoms_from_fwid\n",
    "from gaspy import gasdb\n",
    "from gaspy import atoms_operators\n",
    "from kevin import get_initial_atoms_from_fwid"
   ]
  },
  {
   "cell_type": "code",
   "execution_count": 2,
   "metadata": {},
   "outputs": [
    {
     "name": "stderr",
     "output_type": "stream",
     "text": [
      "Using TensorFlow backend.\n",
      "/global/homes/k/ktran/miniconda3/envs/richie/lib/python3.6/site-packages/tensorflow/python/framework/dtypes.py:516: FutureWarning: Passing (type, 1) or '1type' as a synonym of type is deprecated; in a future version of numpy, it will be understood as (type, (1,)) / '(1,)type'.\n",
      "  _np_qint8 = np.dtype([(\"qint8\", np.int8, 1)])\n",
      "/global/homes/k/ktran/miniconda3/envs/richie/lib/python3.6/site-packages/tensorflow/python/framework/dtypes.py:517: FutureWarning: Passing (type, 1) or '1type' as a synonym of type is deprecated; in a future version of numpy, it will be understood as (type, (1,)) / '(1,)type'.\n",
      "  _np_quint8 = np.dtype([(\"quint8\", np.uint8, 1)])\n",
      "/global/homes/k/ktran/miniconda3/envs/richie/lib/python3.6/site-packages/tensorflow/python/framework/dtypes.py:518: FutureWarning: Passing (type, 1) or '1type' as a synonym of type is deprecated; in a future version of numpy, it will be understood as (type, (1,)) / '(1,)type'.\n",
      "  _np_qint16 = np.dtype([(\"qint16\", np.int16, 1)])\n",
      "/global/homes/k/ktran/miniconda3/envs/richie/lib/python3.6/site-packages/tensorflow/python/framework/dtypes.py:519: FutureWarning: Passing (type, 1) or '1type' as a synonym of type is deprecated; in a future version of numpy, it will be understood as (type, (1,)) / '(1,)type'.\n",
      "  _np_quint16 = np.dtype([(\"quint16\", np.uint16, 1)])\n",
      "/global/homes/k/ktran/miniconda3/envs/richie/lib/python3.6/site-packages/tensorflow/python/framework/dtypes.py:520: FutureWarning: Passing (type, 1) or '1type' as a synonym of type is deprecated; in a future version of numpy, it will be understood as (type, (1,)) / '(1,)type'.\n",
      "  _np_qint32 = np.dtype([(\"qint32\", np.int32, 1)])\n",
      "/global/homes/k/ktran/miniconda3/envs/richie/lib/python3.6/site-packages/tensorflow/python/framework/dtypes.py:525: FutureWarning: Passing (type, 1) or '1type' as a synonym of type is deprecated; in a future version of numpy, it will be understood as (type, (1,)) / '(1,)type'.\n",
      "  np_resource = np.dtype([(\"resource\", np.ubyte, 1)])\n",
      "/global/homes/k/ktran/miniconda3/envs/richie/lib/python3.6/site-packages/tensorboard/compat/tensorflow_stub/dtypes.py:541: FutureWarning: Passing (type, 1) or '1type' as a synonym of type is deprecated; in a future version of numpy, it will be understood as (type, (1,)) / '(1,)type'.\n",
      "  _np_qint8 = np.dtype([(\"qint8\", np.int8, 1)])\n",
      "/global/homes/k/ktran/miniconda3/envs/richie/lib/python3.6/site-packages/tensorboard/compat/tensorflow_stub/dtypes.py:542: FutureWarning: Passing (type, 1) or '1type' as a synonym of type is deprecated; in a future version of numpy, it will be understood as (type, (1,)) / '(1,)type'.\n",
      "  _np_quint8 = np.dtype([(\"quint8\", np.uint8, 1)])\n",
      "/global/homes/k/ktran/miniconda3/envs/richie/lib/python3.6/site-packages/tensorboard/compat/tensorflow_stub/dtypes.py:543: FutureWarning: Passing (type, 1) or '1type' as a synonym of type is deprecated; in a future version of numpy, it will be understood as (type, (1,)) / '(1,)type'.\n",
      "  _np_qint16 = np.dtype([(\"qint16\", np.int16, 1)])\n",
      "/global/homes/k/ktran/miniconda3/envs/richie/lib/python3.6/site-packages/tensorboard/compat/tensorflow_stub/dtypes.py:544: FutureWarning: Passing (type, 1) or '1type' as a synonym of type is deprecated; in a future version of numpy, it will be understood as (type, (1,)) / '(1,)type'.\n",
      "  _np_quint16 = np.dtype([(\"quint16\", np.uint16, 1)])\n",
      "/global/homes/k/ktran/miniconda3/envs/richie/lib/python3.6/site-packages/tensorboard/compat/tensorflow_stub/dtypes.py:545: FutureWarning: Passing (type, 1) or '1type' as a synonym of type is deprecated; in a future version of numpy, it will be understood as (type, (1,)) / '(1,)type'.\n",
      "  _np_qint32 = np.dtype([(\"qint32\", np.int32, 1)])\n",
      "/global/homes/k/ktran/miniconda3/envs/richie/lib/python3.6/site-packages/tensorboard/compat/tensorflow_stub/dtypes.py:550: FutureWarning: Passing (type, 1) or '1type' as a synonym of type is deprecated; in a future version of numpy, it will be understood as (type, (1,)) / '(1,)type'.\n",
      "  np_resource = np.dtype([(\"resource\", np.ubyte, 1)])\n"
     ]
    }
   ],
   "source": [
    "import os\n",
    "import sklearn\n",
    "import pandas as pd\n",
    "import matplotlib.pyplot as plt\n",
    "import scikitplot as skplt\n",
    "import numpy as np\n",
    "\n",
    "from extract_features_helpers import *\n",
    "from parsefile_helpers import *\n",
    "from sklearn.neighbors import KNeighborsClassifier\n",
    "from imblearn.over_sampling import SMOTE, ADASYN\n",
    "from sklearn.model_selection import train_test_split\n",
    "from matplotlib.ticker import FuncFormatter, MaxNLocator\n",
    "from tqdm import tqdm"
   ]
  },
  {
   "cell_type": "code",
   "execution_count": 3,
   "metadata": {
    "scrolled": true
   },
   "outputs": [
    {
     "name": "stderr",
     "output_type": "stream",
     "text": [
      "100%|██████████| 3000/3000 [02:16<00:00, 22.04it/s]\n"
     ]
    }
   ],
   "source": [
    "# making atoms objects from cached files\n",
    "\n",
    "cache_dir = \"/global/cscratch1/sd/zulissi/fireworks_launch_backup\"\n",
    "cached_files = os.listdir(cache_dir)[3000:6000] # test run on 1000 initial candidates\n",
    "lpad = get_launchpad()\n",
    "\n",
    "data_dict = {}\n",
    "\n",
    "for file in tqdm(cached_files):\n",
    "    launch_id = int(file[:-7])\n",
    "    launch_fw = list(lpad.launches.find({\"launch_id\" : launch_id}))[0]\n",
    "    fw_id = launch_fw[\"fw_id\"]\n",
    "    atoms = get_initial_atoms_from_fwid(fw_id)\n",
    "    if len(set(atoms.get_tags())) == 1:\n",
    "        continue # filter out atoms objects with no tagged adsorbate\n",
    "    data_dict[file] = {}\n",
    "    data_dict[file][\"atoms\"] = atoms"
   ]
  },
  {
   "cell_type": "code",
   "execution_count": 4,
   "metadata": {},
   "outputs": [
    {
     "name": "stderr",
     "output_type": "stream",
     "text": [
      "100%|██████████| 1381/1381 [03:22<00:00,  6.83it/s]\n"
     ]
    }
   ],
   "source": [
    "# getting features for atoms objects\n",
    "\n",
    "for file in tqdm(data_dict):\n",
    "    atoms = data_dict[file][\"atoms\"]\n",
    "    features = get_features(atoms)\n",
    "    data_dict[file][\"features\"] = features"
   ]
  },
  {
   "cell_type": "code",
   "execution_count": 5,
   "metadata": {},
   "outputs": [
    {
     "name": "stderr",
     "output_type": "stream",
     "text": [
      "100%|██████████| 1381/1381 [03:02<00:00,  7.55it/s]\n"
     ]
    }
   ],
   "source": [
    "# getting targets for atoms objects\n",
    "\n",
    "for file in tqdm(data_dict):\n",
    "    filename = os.path.join(cache_dir, file)\n",
    "    launch_dir = unzip(filename)\n",
    "    steptime_coresec = get_steptime_coresec(launch_dir)\n",
    "    rm_temp(launch_dir)\n",
    "    data_dict[file][\"steptime_coresec\"] = steptime_coresec"
   ]
  },
  {
   "cell_type": "code",
   "execution_count": 6,
   "metadata": {},
   "outputs": [
    {
     "name": "stdout",
     "output_type": "stream",
     "text": [
      "unbalanced shapes: (1104, 10) (277, 10) (1104,) (277,)\n",
      "resampled shapes: (2106, 10) (2106,)\n"
     ]
    }
   ],
   "source": [
    "# preprocessing the data\n",
    "\n",
    "verbose = 1\n",
    "cutoff = 10000\n",
    "    \n",
    "# initializing targets\n",
    "track_df = pd.DataFrame.from_dict(data_dict).transpose()\n",
    "Y_list = list(track_df[\"steptime_coresec\"])\n",
    "target_list = list(map(lambda y: 1 if y > cutoff else 0, Y_list))\n",
    "track_df[\"steptime_coresec\"] = target_list\n",
    "\n",
    "# train test split\n",
    "df_train, df_test = train_test_split(track_df, test_size =0.2)\n",
    "\n",
    "# making dataframes into lists\n",
    "X_train = np.array(list(df_train[\"features\"]),dtype=np.float64)\n",
    "y_train = np.array(list(df_train[\"steptime_coresec\"]),dtype=np.float64)\n",
    "X_test = np.array(list(df_test[\"features\"]),dtype=np.float64)\n",
    "y_test = np.array(list(df_test[\"steptime_coresec\"]),dtype=np.float64)\n",
    "if verbose:\n",
    "    print(\"unbalanced shapes:\", X_train.shape, X_test.shape, y_train.shape, y_test.shape)\n",
    "\n",
    "# preprocessing\n",
    "scaler = sklearn.preprocessing.StandardScaler()\n",
    "scaler.fit(np.concatenate((X_train, X_test)))\n",
    "X_train = scaler.transform(X_train)\n",
    "X_test = scaler.transform(X_test)\n",
    "\n",
    "# resampling using ADASYN\n",
    "X_resampled, y_resampled = ADASYN().fit_resample(X_train, y_train)\n",
    "if verbose:\n",
    "    print(\"resampled shapes:\", X_resampled.shape, y_resampled.shape)"
   ]
  },
  {
   "cell_type": "code",
   "execution_count": 7,
   "metadata": {},
   "outputs": [
    {
     "name": "stdout",
     "output_type": "stream",
     "text": [
      "accuracy: 0.7978339350180506 \n",
      "balanced accuracy: 0.851161995898838 \n",
      "recall: 0.9090909090909091\n"
     ]
    }
   ],
   "source": [
    "# training and testing data\n",
    "\n",
    "# fitting KNeighborsClassifier model\n",
    "model = KNeighborsClassifier(weights=\"uniform\", algorithm=\"auto\", n_jobs=4, n_neighbors=11, leaf_size=30)\n",
    "model.fit(X_resampled, y_resampled)\n",
    "\n",
    "# predicting with the model\n",
    "y_predict = model.predict(X_test)\n",
    "accuracy = sklearn.metrics.accuracy_score(y_test, y_predict)\n",
    "balanced_accuracy = sklearn.metrics.balanced_accuracy_score(y_test, y_predict)\n",
    "recall = sklearn.metrics.recall_score(y_test, y_predict)\n",
    "if verbose:\n",
    "    print(\"accuracy:\", accuracy, \"\\nbalanced accuracy:\", balanced_accuracy, \"\\nrecall:\", recall)"
   ]
  },
  {
   "cell_type": "code",
   "execution_count": 8,
   "metadata": {},
   "outputs": [
    {
     "data": {
      "image/png": "[encoded data removed]",
      "text/plain": [
       "<Figure size 648x648 with 2 Axes>"
      ]
     },
     "metadata": {
      "needs_background": "light"
     },
     "output_type": "display_data"
    },
    {
     "data": {
      "image/png": "[encoded data removed]",
      "text/plain": [
       "<Figure size 648x648 with 2 Axes>"
      ]
     },
     "metadata": {
      "needs_background": "light"
     },
     "output_type": "display_data"
    }
   ],
   "source": [
    "# plotting confusion matrices\n",
    "\n",
    "if verbose:\n",
    "    plt.rcParams[\"figure.figsize\"] = [9,9]\n",
    "    ax1 = skplt.metrics.plot_confusion_matrix(y_test, y_predict, normalize=True)\n",
    "    ax2 = skplt.metrics.plot_confusion_matrix(y_test, y_predict, normalize=False)\n",
    "    labels = [\"below %d\"%cutoff, \"above %d\"%cutoff]\n",
    "\n",
    "    def format_fn(tick_val, tick_pos):\n",
    "        return labels[tick_val]\n",
    "\n",
    "    ax1.xaxis.set_major_formatter(FuncFormatter(format_fn))\n",
    "    ax1.yaxis.set_major_formatter(FuncFormatter(format_fn))\n",
    "    ax2.xaxis.set_major_formatter(FuncFormatter(format_fn))\n",
    "    ax2.yaxis.set_major_formatter(FuncFormatter(format_fn))"
   ]
  }
 ],
 "metadata": {
  "kernelspec": {
   "display_name": "richie",
   "language": "python",
   "name": "richie"
  },
  "language_info": {
   "codemirror_mode": {
    "name": "ipython",
    "version": 3
   },
   "file_extension": ".py",
   "mimetype": "text/x-python",
   "name": "python",
   "nbconvert_exporter": "python",
   "pygments_lexer": "ipython3",
   "version": "3.6.7"
  }
 },
 "nbformat": 4,
 "nbformat_minor": 4
}
